{
  "nbformat": 4,
  "nbformat_minor": 0,
  "metadata": {
    "colab": {
      "name": "callbacks.ipynb",
      "provenance": []
    },
    "kernelspec": {
      "name": "python3",
      "display_name": "Python 3"
    },
    "language_info": {
      "name": "python"
    }
  },
  "cells": [
    {
      "cell_type": "code",
      "execution_count": null,
      "metadata": {
        "colab": {
          "base_uri": "https://localhost:8080/"
        },
        "id": "URqytWzivt1O",
        "outputId": "67521e19-8fea-4abb-dc10-6b3a6458ddf8"
      },
      "outputs": [
        {
          "output_type": "stream",
          "name": "stdout",
          "text": [
            "Downloading data from https://storage.googleapis.com/tensorflow/tf-keras-datasets/mnist.npz\n",
            "11493376/11490434 [==============================] - 0s 0us/step\n",
            "11501568/11490434 [==============================] - 0s 0us/step\n",
            "(60000, 28, 28)\n",
            "(10000, 28, 28)\n"
          ]
        }
      ],
      "source": [
        "import tensorflow as tf\n",
        "from keras.utils import np_utils\n",
        "\n",
        "(X_train,y_train),(X_test,y_test)= tf.keras.datasets.mnist.load_data()\n",
        "\n",
        "print(X_train.shape)\n",
        "\n",
        "print(X_test.shape)"
      ]
    },
    {
      "cell_type": "code",
      "source": [
        "model = tf.keras.models.Sequential()\n",
        "model.add(tf.keras.layers.BatchNormalization(input_shape = (13,)))\n",
        "model.add(tf.keras.layers.Dense(1))\n",
        "model.compile(optimizer= 'sgd', loss = 'mse')"
      ],
      "metadata": {
        "id": "9LQ1LGjLvwG3"
      },
      "execution_count": null,
      "outputs": []
    },
    {
      "cell_type": "code",
      "source": [
        "history = model.fit(X_train, y_train, \n",
        "                    validation_data = (X_test, y_test), \n",
        "                    epochs = 30)"
      ],
      "metadata": {
        "colab": {
          "base_uri": "https://localhost:8080/"
        },
        "id": "vZCMdLZ2v94Q",
        "outputId": "4d4d50ca-4bd9-4a46-ffe2-42da44deb4d9"
      },
      "execution_count": null,
      "outputs": [
        {
          "output_type": "stream",
          "name": "stdout",
          "text": [
            "Epoch 1/30\n",
            "13/13 [==============================] - 1s 20ms/step - loss: 236.1780 - val_loss: 84.4698\n",
            "Epoch 2/30\n",
            "13/13 [==============================] - 0s 5ms/step - loss: 56.4829 - val_loss: 131.8143\n",
            "Epoch 3/30\n",
            "13/13 [==============================] - 0s 4ms/step - loss: 39.3723 - val_loss: 150.9703\n",
            "Epoch 4/30\n",
            "13/13 [==============================] - 0s 4ms/step - loss: 36.8025 - val_loss: 115.6345\n",
            "Epoch 5/30\n",
            "13/13 [==============================] - 0s 4ms/step - loss: 34.8368 - val_loss: 29.5638\n",
            "Epoch 6/30\n",
            "13/13 [==============================] - 0s 5ms/step - loss: 30.4254 - val_loss: 52.2614\n",
            "Epoch 7/30\n",
            "13/13 [==============================] - 0s 5ms/step - loss: 34.4584 - val_loss: 33.8633\n",
            "Epoch 8/30\n",
            "13/13 [==============================] - 0s 5ms/step - loss: 37.3399 - val_loss: 20.0023\n",
            "Epoch 9/30\n",
            "13/13 [==============================] - 0s 4ms/step - loss: 27.9203 - val_loss: 26.9699\n",
            "Epoch 10/30\n",
            "13/13 [==============================] - 0s 4ms/step - loss: 28.2507 - val_loss: 21.9231\n",
            "Epoch 11/30\n",
            "13/13 [==============================] - 0s 5ms/step - loss: 28.3292 - val_loss: 22.1095\n",
            "Epoch 12/30\n",
            "13/13 [==============================] - 0s 5ms/step - loss: 27.4967 - val_loss: 24.0806\n",
            "Epoch 13/30\n",
            "13/13 [==============================] - 0s 4ms/step - loss: 27.3691 - val_loss: 37.0400\n",
            "Epoch 14/30\n",
            "13/13 [==============================] - 0s 5ms/step - loss: 31.4851 - val_loss: 25.3265\n",
            "Epoch 15/30\n",
            "13/13 [==============================] - 0s 5ms/step - loss: 31.2057 - val_loss: 26.9120\n",
            "Epoch 16/30\n",
            "13/13 [==============================] - 0s 5ms/step - loss: 29.6030 - val_loss: 26.5072\n",
            "Epoch 17/30\n",
            "13/13 [==============================] - 0s 5ms/step - loss: 32.3539 - val_loss: 39.4698\n",
            "Epoch 18/30\n",
            "13/13 [==============================] - 0s 4ms/step - loss: 28.1412 - val_loss: 23.1434\n",
            "Epoch 19/30\n",
            "13/13 [==============================] - 0s 4ms/step - loss: 32.0609 - val_loss: 30.2425\n",
            "Epoch 20/30\n",
            "13/13 [==============================] - 0s 5ms/step - loss: 26.3012 - val_loss: 21.5843\n",
            "Epoch 21/30\n",
            "13/13 [==============================] - 0s 4ms/step - loss: 27.2632 - val_loss: 23.7005\n",
            "Epoch 22/30\n",
            "13/13 [==============================] - 0s 4ms/step - loss: 27.2420 - val_loss: 23.9503\n",
            "Epoch 23/30\n",
            "13/13 [==============================] - 0s 5ms/step - loss: 29.5003 - val_loss: 30.4753\n",
            "Epoch 24/30\n",
            "13/13 [==============================] - 0s 5ms/step - loss: 29.5422 - val_loss: 22.8040\n",
            "Epoch 25/30\n",
            "13/13 [==============================] - 0s 5ms/step - loss: 26.8330 - val_loss: 28.9638\n",
            "Epoch 26/30\n",
            "13/13 [==============================] - 0s 6ms/step - loss: 27.8590 - val_loss: 25.8827\n",
            "Epoch 27/30\n",
            "13/13 [==============================] - 0s 5ms/step - loss: 30.1472 - val_loss: 51.2903\n",
            "Epoch 28/30\n",
            "13/13 [==============================] - 0s 5ms/step - loss: 34.0300 - val_loss: 23.3852\n",
            "Epoch 29/30\n",
            "13/13 [==============================] - 0s 4ms/step - loss: 26.0011 - val_loss: 32.3392\n",
            "Epoch 30/30\n",
            "13/13 [==============================] - 0s 7ms/step - loss: 27.5537 - val_loss: 26.2828\n"
          ]
        }
      ]
    },
    {
      "cell_type": "code",
      "source": [
        "print(history.history.keys())"
      ],
      "metadata": {
        "colab": {
          "base_uri": "https://localhost:8080/"
        },
        "id": "r61xVyifB-ic",
        "outputId": "b744ecde-c047-4a0f-9bba-48b1b5878789"
      },
      "execution_count": null,
      "outputs": [
        {
          "output_type": "stream",
          "name": "stdout",
          "text": [
            "dict_keys(['loss', 'val_loss'])\n"
          ]
        }
      ]
    },
    {
      "cell_type": "code",
      "source": [
        "print(history)"
      ],
      "metadata": {
        "colab": {
          "base_uri": "https://localhost:8080/"
        },
        "id": "R1f0c4ExCFKz",
        "outputId": "7afbab7b-a10f-46b5-e557-cd9b1e48e8ef"
      },
      "execution_count": null,
      "outputs": [
        {
          "output_type": "stream",
          "name": "stdout",
          "text": [
            "<keras.callbacks.History object at 0x7fcfa9b1ead0>\n"
          ]
        }
      ]
    },
    {
      "cell_type": "code",
      "source": [
        "import matplotlib.pyplot as plt\n",
        "\n",
        "plt.plot(history.history['loss'], label = 'loss')\n",
        "plt.plot(history.history['val_loss'], label = 'val_loss')\n",
        "\n",
        "plt.ylabel('loss')\n",
        "plt.xlabel('val_loss')\n",
        "plt.legend()\n",
        "\n",
        "\n",
        "plt.show()"
      ],
      "metadata": {
        "colab": {
          "base_uri": "https://localhost:8080/",
          "height": 280
        },
        "id": "DqqFmI-hE-Pe",
        "outputId": "9a08d1b8-74ba-4c09-aec0-304c5ab94e5f"
      },
      "execution_count": null,
      "outputs": [
        {
          "output_type": "display_data",
          "data": {
            "image/png": "[encoded data removed]",
            "text/plain": [
              "<Figure size 432x288 with 1 Axes>"
            ]
          },
          "metadata": {
            "needs_background": "light"
          }
        }
      ]
    },
    {
      "cell_type": "code",
      "source": [
        "filepath = '/content/'"
      ],
      "metadata": {
        "id": "bJ_9lnDlFrRh"
      },
      "execution_count": null,
      "outputs": []
    },
    {
      "cell_type": "code",
      "source": [
        "from keras.callbacks import ModelCheckpoint"
      ],
      "metadata": {
        "id": "MW98w77EHQJs"
      },
      "execution_count": null,
      "outputs": []
    },
    {
      "cell_type": "code",
      "source": [
        "checkpoint = ModelCheckpoint(filepath, monitor = 'val_loss',\n",
        "                             mode = 'min',\n",
        "                             save_best_only = True, \n",
        "                             verbose = 1)\n",
        "callbacks_list = [checkpoint]\n",
        "\n",
        "model.fit(X_train, y_train, \n",
        "          validation_data = (X_test, y_test),\n",
        "          epochs = 15, \n",
        "          batch_size = 32, \n",
        "          callbacks = checkpoint)"
      ],
      "metadata": {
        "colab": {
          "base_uri": "https://localhost:8080/"
        },
        "id": "u6H0G8zdHhf1",
        "outputId": "41c2e458-3289-4aff-8184-40536f35a578"
      },
      "execution_count": null,
      "outputs": [
        {
          "output_type": "stream",
          "name": "stdout",
          "text": [
            "Epoch 1/15\n",
            " 1/13 [=>............................] - ETA: 0s - loss: 14.9444\n",
            "Epoch 1: val_loss improved from inf to 26.88982, saving model to /content/\n",
            "INFO:tensorflow:Assets written to: /content/assets\n",
            "13/13 [==============================] - 1s 80ms/step - loss: 25.8176 - val_loss: 26.8898\n",
            "Epoch 2/15\n",
            " 1/13 [=>............................] - ETA: 0s - loss: 36.6374\n",
            "Epoch 2: val_loss improved from 26.88982 to 26.48946, saving model to /content/\n",
            "INFO:tensorflow:Assets written to: /content/assets\n",
            "13/13 [==============================] - 1s 51ms/step - loss: 26.6824 - val_loss: 26.4895\n",
            "Epoch 3/15\n",
            " 1/13 [=>............................] - ETA: 0s - loss: 30.4265\n",
            "Epoch 3: val_loss did not improve from 26.48946\n",
            "13/13 [==============================] - 0s 4ms/step - loss: 29.6817 - val_loss: 32.9482\n",
            "Epoch 4/15\n",
            " 1/13 [=>............................] - ETA: 0s - loss: 58.1337\n",
            "Epoch 4: val_loss did not improve from 26.48946\n",
            "13/13 [==============================] - 0s 4ms/step - loss: 29.9435 - val_loss: 30.4861\n",
            "Epoch 5/15\n",
            " 1/13 [=>............................] - ETA: 0s - loss: 7.9235\n",
            "Epoch 5: val_loss improved from 26.48946 to 23.23064, saving model to /content/\n",
            "INFO:tensorflow:Assets written to: /content/assets\n",
            "13/13 [==============================] - 1s 50ms/step - loss: 34.9976 - val_loss: 23.2306\n",
            "Epoch 6/15\n",
            " 1/13 [=>............................] - ETA: 0s - loss: 22.1317\n",
            "Epoch 6: val_loss improved from 23.23064 to 21.87387, saving model to /content/\n",
            "INFO:tensorflow:Assets written to: /content/assets\n",
            "13/13 [==============================] - 1s 50ms/step - loss: 25.9722 - val_loss: 21.8739\n",
            "Epoch 7/15\n",
            " 1/13 [=>............................] - ETA: 0s - loss: 23.2553\n",
            "Epoch 7: val_loss did not improve from 21.87387\n",
            "13/13 [==============================] - 0s 4ms/step - loss: 32.3894 - val_loss: 25.4195\n",
            "Epoch 8/15\n",
            " 1/13 [=>............................] - ETA: 0s - loss: 22.8334\n",
            "Epoch 8: val_loss did not improve from 21.87387\n",
            "13/13 [==============================] - 0s 4ms/step - loss: 25.6087 - val_loss: 40.7457\n",
            "Epoch 9/15\n",
            " 1/13 [=>............................] - ETA: 0s - loss: 21.4398\n",
            "Epoch 9: val_loss did not improve from 21.87387\n",
            "13/13 [==============================] - 0s 4ms/step - loss: 33.1761 - val_loss: 27.0331\n",
            "Epoch 10/15\n",
            " 1/13 [=>............................] - ETA: 0s - loss: 25.8432\n",
            "Epoch 10: val_loss did not improve from 21.87387\n",
            "13/13 [==============================] - 0s 4ms/step - loss: 28.8489 - val_loss: 27.5260\n",
            "Epoch 11/15\n",
            " 1/13 [=>............................] - ETA: 0s - loss: 27.4923\n",
            "Epoch 11: val_loss did not improve from 21.87387\n",
            "13/13 [==============================] - 0s 5ms/step - loss: 24.2018 - val_loss: 22.9527\n",
            "Epoch 12/15\n",
            " 1/13 [=>............................] - ETA: 0s - loss: 16.3135\n",
            "Epoch 12: val_loss did not improve from 21.87387\n",
            "13/13 [==============================] - 0s 5ms/step - loss: 32.5675 - val_loss: 25.6288\n",
            "Epoch 13/15\n",
            " 1/13 [=>............................] - ETA: 0s - loss: 32.5193\n",
            "Epoch 13: val_loss did not improve from 21.87387\n",
            "13/13 [==============================] - 0s 4ms/step - loss: 26.8721 - val_loss: 22.9701\n",
            "Epoch 14/15\n",
            " 1/13 [=>............................] - ETA: 0s - loss: 50.8046\n",
            "Epoch 14: val_loss did not improve from 21.87387\n",
            "13/13 [==============================] - 0s 4ms/step - loss: 26.8358 - val_loss: 23.8929\n",
            "Epoch 15/15\n",
            " 1/13 [=>............................] - ETA: 0s - loss: 55.2529\n",
            "Epoch 15: val_loss did not improve from 21.87387\n",
            "13/13 [==============================] - 0s 5ms/step - loss: 29.0628 - val_loss: 24.7992\n"
          ]
        },
        {
          "output_type": "execute_result",
          "data": {
            "text/plain": [
              "<keras.callbacks.History at 0x7fcfa1d60d50>"
            ]
          },
          "metadata": {},
          "execution_count": 26
        }
      ]
    },
    {
      "cell_type": "code",
      "source": [
        "len(history.history['loss'])"
      ],
      "metadata": {
        "colab": {
          "base_uri": "https://localhost:8080/"
        },
        "id": "8B8gjBbjIXHe",
        "outputId": "b79a3086-646e-4241-f384-13504227c10f"
      },
      "execution_count": null,
      "outputs": [
        {
          "output_type": "execute_result",
          "data": {
            "text/plain": [
              "30"
            ]
          },
          "metadata": {},
          "execution_count": 27
        }
      ]
    },
    {
      "cell_type": "code",
      "source": [
        "from keras.callbacks import EarlyStopping\n",
        "\n",
        "earlystop = EarlyStopping(monitor = 'val_loss',\n",
        "                          min_delta = 0, \n",
        "                          patience= 3,\n",
        "                          verbose = 1, \n",
        "                          restore_best_weights=True)"
      ],
      "metadata": {
        "id": "VTRgJ_8eIhIS"
      },
      "execution_count": null,
      "outputs": []
    },
    {
      "cell_type": "code",
      "source": [
        "callbacks_list.append(earlystop)"
      ],
      "metadata": {
        "id": "6RGB5hkwJHYo"
      },
      "execution_count": null,
      "outputs": []
    },
    {
      "cell_type": "code",
      "source": [
        "model.fit(X_train, y_train, \n",
        "          validation_data = (X_test, y_test),\n",
        "          epochs = 15, \n",
        "          batch_size = 32, \n",
        "          callbacks = callbacks_list)"
      ],
      "metadata": {
        "colab": {
          "base_uri": "https://localhost:8080/"
        },
        "id": "tTzFNWRhJMVE",
        "outputId": "ba517a9d-2d54-4782-9431-bd0fa8c6ed26"
      },
      "execution_count": null,
      "outputs": [
        {
          "output_type": "stream",
          "name": "stdout",
          "text": [
            "Epoch 1/15\n",
            " 1/13 [=>............................] - ETA: 0s - loss: 24.8081\n",
            "Epoch 1: val_loss did not improve from 21.87387\n",
            "13/13 [==============================] - 0s 8ms/step - loss: 26.2368 - val_loss: 25.7511\n",
            "Epoch 2/15\n",
            " 1/13 [=>............................] - ETA: 0s - loss: 37.6388\n",
            "Epoch 2: val_loss did not improve from 21.87387\n",
            "13/13 [==============================] - 0s 5ms/step - loss: 30.7772 - val_loss: 31.6138\n",
            "Epoch 3/15\n",
            " 1/13 [=>............................] - ETA: 0s - loss: 16.4300\n",
            "Epoch 3: val_loss did not improve from 21.87387\n",
            "13/13 [==============================] - 0s 5ms/step - loss: 27.0447 - val_loss: 25.7484\n",
            "Epoch 4/15\n",
            " 1/13 [=>............................] - ETA: 0s - loss: 36.0746\n",
            "Epoch 4: val_loss did not improve from 21.87387\n",
            "13/13 [==============================] - 0s 5ms/step - loss: 26.2660 - val_loss: 27.4140\n",
            "Epoch 5/15\n",
            " 1/13 [=>............................] - ETA: 0s - loss: 31.0064\n",
            "Epoch 5: val_loss did not improve from 21.87387\n",
            "13/13 [==============================] - 0s 4ms/step - loss: 25.2351 - val_loss: 22.5311\n",
            "Epoch 6/15\n",
            " 1/13 [=>............................] - ETA: 0s - loss: 30.1855\n",
            "Epoch 6: val_loss did not improve from 21.87387\n",
            "13/13 [==============================] - 0s 4ms/step - loss: 26.0290 - val_loss: 27.1741\n",
            "Epoch 7/15\n",
            " 1/13 [=>............................] - ETA: 0s - loss: 14.0268\n",
            "Epoch 7: val_loss did not improve from 21.87387\n",
            "13/13 [==============================] - 0s 5ms/step - loss: 31.2376 - val_loss: 25.0024\n",
            "Epoch 8/15\n",
            " 1/13 [=>............................] - ETA: 0s - loss: 23.5898\n",
            "Epoch 8: val_loss did not improve from 21.87387\n",
            "Restoring model weights from the end of the best epoch: 5.\n",
            "13/13 [==============================] - 0s 4ms/step - loss: 28.5352 - val_loss: 26.1569\n",
            "Epoch 8: early stopping\n"
          ]
        },
        {
          "output_type": "execute_result",
          "data": {
            "text/plain": [
              "<keras.callbacks.History at 0x7fcf9febcc90>"
            ]
          },
          "metadata": {},
          "execution_count": 33
        }
      ]
    },
    {
      "cell_type": "code",
      "source": [
        ""
      ],
      "metadata": {
        "id": "fFdwUAikKXZI"
      },
      "execution_count": null,
      "outputs": []
    }
  ]
}